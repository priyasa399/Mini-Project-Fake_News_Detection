{
  "cells": [
    {
      "cell_type": "markdown",
      "metadata": {
        "id": "view-in-github",
        "colab_type": "text"
      },
      "source": [
        "<a href=\"https://colab.research.google.com/github/priyasa399/Mini-Project-Fake_News_Detection/blob/fake_news/Mini_Project_Fake_News_Detection.ipynb\" target=\"_parent\"><img src=\"https://colab.research.google.com/assets/colab-badge.svg\" alt=\"Open In Colab\"/></a>"
      ]
    },
    {
      "cell_type": "code",
      "execution_count": null,
      "metadata": {
        "colab": {
          "base_uri": "https://localhost:8080/"
        },
        "id": "czDm65YfeZZR",
        "outputId": "acd2833b-695a-470a-95e5-41e4fae08421"
      },
      "outputs": [
        {
          "output_type": "stream",
          "name": "stdout",
          "text": [
            "Mounted at /content/drive\n"
          ]
        }
      ],
      "source": [
        "from google.colab import drive\n",
        "drive.mount('/content/drive')"
      ]
    },
    {
      "cell_type": "code",
      "execution_count": null,
      "metadata": {
        "colab": {
          "base_uri": "https://localhost:8080/"
        },
        "id": "uDMhRO8bgkXA",
        "outputId": "065b52c2-eb59-4a16-965a-1578b5162e31"
      },
      "outputs": [
        {
          "output_type": "stream",
          "name": "stdout",
          "text": [
            "/content/drive\n"
          ]
        }
      ],
      "source": [
        "cd '/content/drive'"
      ]
    },
    {
      "cell_type": "code",
      "execution_count": null,
      "metadata": {
        "colab": {
          "base_uri": "https://localhost:8080/"
        },
        "id": "mBfGY9Gzgpxm",
        "outputId": "70baa8d5-2342-400c-a4c6-2efa6c2d0c70"
      },
      "outputs": [
        {
          "output_type": "stream",
          "name": "stdout",
          "text": [
            "/content/drive/My Drive\n"
          ]
        }
      ],
      "source": [
        "cd 'My Drive'"
      ]
    },
    {
      "cell_type": "code",
      "execution_count": null,
      "metadata": {
        "colab": {
          "base_uri": "https://localhost:8080/"
        },
        "id": "V97f8KjCgzQC",
        "outputId": "6749e86a-97f5-4534-907b-071d6b131230"
      },
      "outputs": [
        {
          "output_type": "stream",
          "name": "stdout",
          "text": [
            "/content/drive/My Drive/Fake_News_Dataset\n"
          ]
        }
      ],
      "source": [
        "cd 'Fake_News_Dataset'"
      ]
    },
    {
      "cell_type": "code",
      "execution_count": null,
      "metadata": {
        "colab": {
          "base_uri": "https://localhost:8080/",
          "height": 36
        },
        "id": "mxeoD-kXhX6F",
        "outputId": "c751a475-f5e2-4b44-e4eb-a84945f212cc"
      },
      "outputs": [
        {
          "output_type": "execute_result",
          "data": {
            "text/plain": [
              "'/content/drive/MyDrive/Fake_News_Dataset'"
            ],
            "application/vnd.google.colaboratory.intrinsic+json": {
              "type": "string"
            }
          },
          "metadata": {},
          "execution_count": 27
        }
      ],
      "source": [
        "pwd"
      ]
    },
    {
      "cell_type": "markdown",
      "source": [
        "### Importing Libraries"
      ],
      "metadata": {
        "id": "Gy0W3yozlj6n"
      }
    },
    {
      "cell_type": "code",
      "execution_count": null,
      "metadata": {
        "id": "za8-SlZ9hevi"
      },
      "outputs": [],
      "source": [
        "import numpy as np\n",
        "import pandas as pd\n",
        "import matplotlib.pyplot as plt\n",
        "import sys\n",
        "import pickle\n",
        "import os"
      ]
    },
    {
      "cell_type": "code",
      "execution_count": null,
      "metadata": {
        "id": "64pGZRGIsI6e"
      },
      "outputs": [],
      "source": [
        "from sklearn.feature_extraction.text import TfidfVectorizer\n",
        "\n",
        "# For Splitting the dataset\n",
        "from sklearn.model_selection import train_test_split\n",
        "\n",
        "# Model libraries\n",
        "from sklearn.svm import SVC\n",
        "from sklearn.ensemble import RandomForestClassifier\n",
        "\n",
        "#Accuracy measuring library\n",
        "from sklearn.metrics import accuracy_score"
      ]
    },
    {
      "cell_type": "markdown",
      "source": [
        "### Loading the Dataset"
      ],
      "metadata": {
        "id": "YKpNGS0Flpn-"
      }
    },
    {
      "cell_type": "code",
      "execution_count": null,
      "metadata": {
        "id": "KhIbOzZ9hlVh"
      },
      "outputs": [],
      "source": [
        "fake = pd.read_csv('/content/drive/My Drive/Fake_News_Dataset/Fake.csv', delimiter = ',')\n",
        "true = pd.read_csv('/content/drive/My Drive/Fake_News_Dataset/True.csv', delimiter = ',')"
      ]
    },
    {
      "cell_type": "code",
      "execution_count": null,
      "metadata": {
        "colab": {
          "base_uri": "https://localhost:8080/",
          "height": 206
        },
        "id": "UZ80UV0Cw-1c",
        "outputId": "00c96b92-a44d-43f7-ad8f-42ee95c21065"
      },
      "outputs": [
        {
          "output_type": "execute_result",
          "data": {
            "text/plain": [
              "                                               title  \\\n",
              "0   Donald Trump Sends Out Embarrassing New Year’...   \n",
              "1   Drunk Bragging Trump Staffer Started Russian ...   \n",
              "2   Sheriff David Clarke Becomes An Internet Joke...   \n",
              "3   Trump Is So Obsessed He Even Has Obama’s Name...   \n",
              "4   Pope Francis Just Called Out Donald Trump Dur...   \n",
              "\n",
              "                                                text subject  \\\n",
              "0  Donald Trump just couldn t wish all Americans ...    News   \n",
              "1  House Intelligence Committee Chairman Devin Nu...    News   \n",
              "2  On Friday, it was revealed that former Milwauk...    News   \n",
              "3  On Christmas day, Donald Trump announced that ...    News   \n",
              "4  Pope Francis used his annual Christmas Day mes...    News   \n",
              "\n",
              "                date  \n",
              "0  December 31, 2017  \n",
              "1  December 31, 2017  \n",
              "2  December 30, 2017  \n",
              "3  December 29, 2017  \n",
              "4  December 25, 2017  "
            ],
            "text/html": [
              "\n",
              "  <div id=\"df-559de63b-45ab-44a8-b908-e674e2795b1f\">\n",
              "    <div class=\"colab-df-container\">\n",
              "      <div>\n",
              "<style scoped>\n",
              "    .dataframe tbody tr th:only-of-type {\n",
              "        vertical-align: middle;\n",
              "    }\n",
              "\n",
              "    .dataframe tbody tr th {\n",
              "        vertical-align: top;\n",
              "    }\n",
              "\n",
              "    .dataframe thead th {\n",
              "        text-align: right;\n",
              "    }\n",
              "</style>\n",
              "<table border=\"1\" class=\"dataframe\">\n",
              "  <thead>\n",
              "    <tr style=\"text-align: right;\">\n",
              "      <th></th>\n",
              "      <th>title</th>\n",
              "      <th>text</th>\n",
              "      <th>subject</th>\n",
              "      <th>date</th>\n",
              "    </tr>\n",
              "  </thead>\n",
              "  <tbody>\n",
              "    <tr>\n",
              "      <th>0</th>\n",
              "      <td>Donald Trump Sends Out Embarrassing New Year’...</td>\n",
              "      <td>Donald Trump just couldn t wish all Americans ...</td>\n",
              "      <td>News</td>\n",
              "      <td>December 31, 2017</td>\n",
              "    </tr>\n",
              "    <tr>\n",
              "      <th>1</th>\n",
              "      <td>Drunk Bragging Trump Staffer Started Russian ...</td>\n",
              "      <td>House Intelligence Committee Chairman Devin Nu...</td>\n",
              "      <td>News</td>\n",
              "      <td>December 31, 2017</td>\n",
              "    </tr>\n",
              "    <tr>\n",
              "      <th>2</th>\n",
              "      <td>Sheriff David Clarke Becomes An Internet Joke...</td>\n",
              "      <td>On Friday, it was revealed that former Milwauk...</td>\n",
              "      <td>News</td>\n",
              "      <td>December 30, 2017</td>\n",
              "    </tr>\n",
              "    <tr>\n",
              "      <th>3</th>\n",
              "      <td>Trump Is So Obsessed He Even Has Obama’s Name...</td>\n",
              "      <td>On Christmas day, Donald Trump announced that ...</td>\n",
              "      <td>News</td>\n",
              "      <td>December 29, 2017</td>\n",
              "    </tr>\n",
              "    <tr>\n",
              "      <th>4</th>\n",
              "      <td>Pope Francis Just Called Out Donald Trump Dur...</td>\n",
              "      <td>Pope Francis used his annual Christmas Day mes...</td>\n",
              "      <td>News</td>\n",
              "      <td>December 25, 2017</td>\n",
              "    </tr>\n",
              "  </tbody>\n",
              "</table>\n",
              "</div>\n",
              "      <button class=\"colab-df-convert\" onclick=\"convertToInteractive('df-559de63b-45ab-44a8-b908-e674e2795b1f')\"\n",
              "              title=\"Convert this dataframe to an interactive table.\"\n",
              "              style=\"display:none;\">\n",
              "        \n",
              "  <svg xmlns=\"http://www.w3.org/2000/svg\" height=\"24px\"viewBox=\"0 0 24 24\"\n",
              "       width=\"24px\">\n",
              "    <path d=\"M0 0h24v24H0V0z\" fill=\"none\"/>\n",
              "    <path d=\"M18.56 5.44l.94 2.06.94-2.06 2.06-.94-2.06-.94-.94-2.06-.94 2.06-2.06.94zm-11 1L8.5 8.5l.94-2.06 2.06-.94-2.06-.94L8.5 2.5l-.94 2.06-2.06.94zm10 10l.94 2.06.94-2.06 2.06-.94-2.06-.94-.94-2.06-.94 2.06-2.06.94z\"/><path d=\"M17.41 7.96l-1.37-1.37c-.4-.4-.92-.59-1.43-.59-.52 0-1.04.2-1.43.59L10.3 9.45l-7.72 7.72c-.78.78-.78 2.05 0 2.83L4 21.41c.39.39.9.59 1.41.59.51 0 1.02-.2 1.41-.59l7.78-7.78 2.81-2.81c.8-.78.8-2.07 0-2.86zM5.41 20L4 18.59l7.72-7.72 1.47 1.35L5.41 20z\"/>\n",
              "  </svg>\n",
              "      </button>\n",
              "      \n",
              "  <style>\n",
              "    .colab-df-container {\n",
              "      display:flex;\n",
              "      flex-wrap:wrap;\n",
              "      gap: 12px;\n",
              "    }\n",
              "\n",
              "    .colab-df-convert {\n",
              "      background-color: #E8F0FE;\n",
              "      border: none;\n",
              "      border-radius: 50%;\n",
              "      cursor: pointer;\n",
              "      display: none;\n",
              "      fill: #1967D2;\n",
              "      height: 32px;\n",
              "      padding: 0 0 0 0;\n",
              "      width: 32px;\n",
              "    }\n",
              "\n",
              "    .colab-df-convert:hover {\n",
              "      background-color: #E2EBFA;\n",
              "      box-shadow: 0px 1px 2px rgba(60, 64, 67, 0.3), 0px 1px 3px 1px rgba(60, 64, 67, 0.15);\n",
              "      fill: #174EA6;\n",
              "    }\n",
              "\n",
              "    [theme=dark] .colab-df-convert {\n",
              "      background-color: #3B4455;\n",
              "      fill: #D2E3FC;\n",
              "    }\n",
              "\n",
              "    [theme=dark] .colab-df-convert:hover {\n",
              "      background-color: #434B5C;\n",
              "      box-shadow: 0px 1px 3px 1px rgba(0, 0, 0, 0.15);\n",
              "      filter: drop-shadow(0px 1px 2px rgba(0, 0, 0, 0.3));\n",
              "      fill: #FFFFFF;\n",
              "    }\n",
              "  </style>\n",
              "\n",
              "      <script>\n",
              "        const buttonEl =\n",
              "          document.querySelector('#df-559de63b-45ab-44a8-b908-e674e2795b1f button.colab-df-convert');\n",
              "        buttonEl.style.display =\n",
              "          google.colab.kernel.accessAllowed ? 'block' : 'none';\n",
              "\n",
              "        async function convertToInteractive(key) {\n",
              "          const element = document.querySelector('#df-559de63b-45ab-44a8-b908-e674e2795b1f');\n",
              "          const dataTable =\n",
              "            await google.colab.kernel.invokeFunction('convertToInteractive',\n",
              "                                                     [key], {});\n",
              "          if (!dataTable) return;\n",
              "\n",
              "          const docLinkHtml = 'Like what you see? Visit the ' +\n",
              "            '<a target=\"_blank\" href=https://colab.research.google.com/notebooks/data_table.ipynb>data table notebook</a>'\n",
              "            + ' to learn more about interactive tables.';\n",
              "          element.innerHTML = '';\n",
              "          dataTable['output_type'] = 'display_data';\n",
              "          await google.colab.output.renderOutput(dataTable, element);\n",
              "          const docLink = document.createElement('div');\n",
              "          docLink.innerHTML = docLinkHtml;\n",
              "          element.appendChild(docLink);\n",
              "        }\n",
              "      </script>\n",
              "    </div>\n",
              "  </div>\n",
              "  "
            ]
          },
          "metadata": {},
          "execution_count": 29
        }
      ],
      "source": [
        "fake.head()"
      ]
    },
    {
      "cell_type": "code",
      "execution_count": null,
      "metadata": {
        "colab": {
          "base_uri": "https://localhost:8080/",
          "height": 206
        },
        "id": "VCvDM6BaxDZt",
        "outputId": "ed8b6a55-2e44-45d4-e74d-9356ebc2cbf2"
      },
      "outputs": [
        {
          "output_type": "execute_result",
          "data": {
            "text/plain": [
              "                                               title  \\\n",
              "0  As U.S. budget fight looms, Republicans flip t...   \n",
              "1  U.S. military to accept transgender recruits o...   \n",
              "2  Senior U.S. Republican senator: 'Let Mr. Muell...   \n",
              "3  FBI Russia probe helped by Australian diplomat...   \n",
              "4  Trump wants Postal Service to charge 'much mor...   \n",
              "\n",
              "                                                text       subject  \\\n",
              "0  WASHINGTON (Reuters) - The head of a conservat...  politicsNews   \n",
              "1  WASHINGTON (Reuters) - Transgender people will...  politicsNews   \n",
              "2  WASHINGTON (Reuters) - The special counsel inv...  politicsNews   \n",
              "3  WASHINGTON (Reuters) - Trump campaign adviser ...  politicsNews   \n",
              "4  SEATTLE/WASHINGTON (Reuters) - President Donal...  politicsNews   \n",
              "\n",
              "                 date  \n",
              "0  December 31, 2017   \n",
              "1  December 29, 2017   \n",
              "2  December 31, 2017   \n",
              "3  December 30, 2017   \n",
              "4  December 29, 2017   "
            ],
            "text/html": [
              "\n",
              "  <div id=\"df-fe378cda-b3c9-4fdc-ab0a-27a9a65c68ed\">\n",
              "    <div class=\"colab-df-container\">\n",
              "      <div>\n",
              "<style scoped>\n",
              "    .dataframe tbody tr th:only-of-type {\n",
              "        vertical-align: middle;\n",
              "    }\n",
              "\n",
              "    .dataframe tbody tr th {\n",
              "        vertical-align: top;\n",
              "    }\n",
              "\n",
              "    .dataframe thead th {\n",
              "        text-align: right;\n",
              "    }\n",
              "</style>\n",
              "<table border=\"1\" class=\"dataframe\">\n",
              "  <thead>\n",
              "    <tr style=\"text-align: right;\">\n",
              "      <th></th>\n",
              "      <th>title</th>\n",
              "      <th>text</th>\n",
              "      <th>subject</th>\n",
              "      <th>date</th>\n",
              "    </tr>\n",
              "  </thead>\n",
              "  <tbody>\n",
              "    <tr>\n",
              "      <th>0</th>\n",
              "      <td>As U.S. budget fight looms, Republicans flip t...</td>\n",
              "      <td>WASHINGTON (Reuters) - The head of a conservat...</td>\n",
              "      <td>politicsNews</td>\n",
              "      <td>December 31, 2017</td>\n",
              "    </tr>\n",
              "    <tr>\n",
              "      <th>1</th>\n",
              "      <td>U.S. military to accept transgender recruits o...</td>\n",
              "      <td>WASHINGTON (Reuters) - Transgender people will...</td>\n",
              "      <td>politicsNews</td>\n",
              "      <td>December 29, 2017</td>\n",
              "    </tr>\n",
              "    <tr>\n",
              "      <th>2</th>\n",
              "      <td>Senior U.S. Republican senator: 'Let Mr. Muell...</td>\n",
              "      <td>WASHINGTON (Reuters) - The special counsel inv...</td>\n",
              "      <td>politicsNews</td>\n",
              "      <td>December 31, 2017</td>\n",
              "    </tr>\n",
              "    <tr>\n",
              "      <th>3</th>\n",
              "      <td>FBI Russia probe helped by Australian diplomat...</td>\n",
              "      <td>WASHINGTON (Reuters) - Trump campaign adviser ...</td>\n",
              "      <td>politicsNews</td>\n",
              "      <td>December 30, 2017</td>\n",
              "    </tr>\n",
              "    <tr>\n",
              "      <th>4</th>\n",
              "      <td>Trump wants Postal Service to charge 'much mor...</td>\n",
              "      <td>SEATTLE/WASHINGTON (Reuters) - President Donal...</td>\n",
              "      <td>politicsNews</td>\n",
              "      <td>December 29, 2017</td>\n",
              "    </tr>\n",
              "  </tbody>\n",
              "</table>\n",
              "</div>\n",
              "      <button class=\"colab-df-convert\" onclick=\"convertToInteractive('df-fe378cda-b3c9-4fdc-ab0a-27a9a65c68ed')\"\n",
              "              title=\"Convert this dataframe to an interactive table.\"\n",
              "              style=\"display:none;\">\n",
              "        \n",
              "  <svg xmlns=\"http://www.w3.org/2000/svg\" height=\"24px\"viewBox=\"0 0 24 24\"\n",
              "       width=\"24px\">\n",
              "    <path d=\"M0 0h24v24H0V0z\" fill=\"none\"/>\n",
              "    <path d=\"M18.56 5.44l.94 2.06.94-2.06 2.06-.94-2.06-.94-.94-2.06-.94 2.06-2.06.94zm-11 1L8.5 8.5l.94-2.06 2.06-.94-2.06-.94L8.5 2.5l-.94 2.06-2.06.94zm10 10l.94 2.06.94-2.06 2.06-.94-2.06-.94-.94-2.06-.94 2.06-2.06.94z\"/><path d=\"M17.41 7.96l-1.37-1.37c-.4-.4-.92-.59-1.43-.59-.52 0-1.04.2-1.43.59L10.3 9.45l-7.72 7.72c-.78.78-.78 2.05 0 2.83L4 21.41c.39.39.9.59 1.41.59.51 0 1.02-.2 1.41-.59l7.78-7.78 2.81-2.81c.8-.78.8-2.07 0-2.86zM5.41 20L4 18.59l7.72-7.72 1.47 1.35L5.41 20z\"/>\n",
              "  </svg>\n",
              "      </button>\n",
              "      \n",
              "  <style>\n",
              "    .colab-df-container {\n",
              "      display:flex;\n",
              "      flex-wrap:wrap;\n",
              "      gap: 12px;\n",
              "    }\n",
              "\n",
              "    .colab-df-convert {\n",
              "      background-color: #E8F0FE;\n",
              "      border: none;\n",
              "      border-radius: 50%;\n",
              "      cursor: pointer;\n",
              "      display: none;\n",
              "      fill: #1967D2;\n",
              "      height: 32px;\n",
              "      padding: 0 0 0 0;\n",
              "      width: 32px;\n",
              "    }\n",
              "\n",
              "    .colab-df-convert:hover {\n",
              "      background-color: #E2EBFA;\n",
              "      box-shadow: 0px 1px 2px rgba(60, 64, 67, 0.3), 0px 1px 3px 1px rgba(60, 64, 67, 0.15);\n",
              "      fill: #174EA6;\n",
              "    }\n",
              "\n",
              "    [theme=dark] .colab-df-convert {\n",
              "      background-color: #3B4455;\n",
              "      fill: #D2E3FC;\n",
              "    }\n",
              "\n",
              "    [theme=dark] .colab-df-convert:hover {\n",
              "      background-color: #434B5C;\n",
              "      box-shadow: 0px 1px 3px 1px rgba(0, 0, 0, 0.15);\n",
              "      filter: drop-shadow(0px 1px 2px rgba(0, 0, 0, 0.3));\n",
              "      fill: #FFFFFF;\n",
              "    }\n",
              "  </style>\n",
              "\n",
              "      <script>\n",
              "        const buttonEl =\n",
              "          document.querySelector('#df-fe378cda-b3c9-4fdc-ab0a-27a9a65c68ed button.colab-df-convert');\n",
              "        buttonEl.style.display =\n",
              "          google.colab.kernel.accessAllowed ? 'block' : 'none';\n",
              "\n",
              "        async function convertToInteractive(key) {\n",
              "          const element = document.querySelector('#df-fe378cda-b3c9-4fdc-ab0a-27a9a65c68ed');\n",
              "          const dataTable =\n",
              "            await google.colab.kernel.invokeFunction('convertToInteractive',\n",
              "                                                     [key], {});\n",
              "          if (!dataTable) return;\n",
              "\n",
              "          const docLinkHtml = 'Like what you see? Visit the ' +\n",
              "            '<a target=\"_blank\" href=https://colab.research.google.com/notebooks/data_table.ipynb>data table notebook</a>'\n",
              "            + ' to learn more about interactive tables.';\n",
              "          element.innerHTML = '';\n",
              "          dataTable['output_type'] = 'display_data';\n",
              "          await google.colab.output.renderOutput(dataTable, element);\n",
              "          const docLink = document.createElement('div');\n",
              "          docLink.innerHTML = docLinkHtml;\n",
              "          element.appendChild(docLink);\n",
              "        }\n",
              "      </script>\n",
              "    </div>\n",
              "  </div>\n",
              "  "
            ]
          },
          "metadata": {},
          "execution_count": 30
        }
      ],
      "source": [
        "true.head()"
      ]
    },
    {
      "cell_type": "markdown",
      "source": [
        "### Data-Preprocessing"
      ],
      "metadata": {
        "id": "o1_qfepOl06O"
      }
    },
    {
      "cell_type": "markdown",
      "source": [
        "True.csv and fake.csv are merged into one single dataset with an additional column named 'sentiment'. Fake news is indicated by a sentiment score of 0 and real news is indicated by a sentiment score of 1. Also, irrelevant columns are dropped."
      ],
      "metadata": {
        "id": "DZyVVFQOpUpX"
      }
    },
    {
      "cell_type": "code",
      "execution_count": null,
      "metadata": {
        "id": "mkMYWtVwiTnZ"
      },
      "outputs": [],
      "source": [
        "fake['sentiment']= 0\n",
        "true['sentiment']= 1\n",
        "\n",
        "dataset =pd.DataFrame()\n",
        "dataset = true.append(fake)"
      ]
    },
    {
      "cell_type": "code",
      "execution_count": null,
      "metadata": {
        "id": "rLMj1IiiiarZ"
      },
      "outputs": [],
      "source": [
        "column = ['date','subject']\n",
        "dataset = dataset.drop(columns=column)\n",
        "input_array=np.array(dataset['title'])"
      ]
    },
    {
      "cell_type": "markdown",
      "source": [
        "### Text Processing"
      ],
      "metadata": {
        "id": "H6-ignIRl6_Y"
      }
    },
    {
      "cell_type": "markdown",
      "source": [
        "We remove stopwords, punctuations, special characters etc and the words are stemmed to their root word. Stop words are a set of commonly used words in a language. Examples of stop words in English are “a”, “the”, “is”, “are” and etc. Stop words are commonly used in Text Mining and Natural Language Processing (NLP) to eliminate words that are so commonly used that they carry very little useful information. "
      ],
      "metadata": {
        "id": "m7bRx0wRoy2s"
      }
    },
    {
      "cell_type": "code",
      "execution_count": null,
      "metadata": {
        "colab": {
          "base_uri": "https://localhost:8080/"
        },
        "id": "OsA4sFXSijfL",
        "outputId": "e2cc8106-ff29-47b3-a223-1ec72700d089"
      },
      "outputs": [
        {
          "output_type": "stream",
          "name": "stdout",
          "text": [
            "[nltk_data] Downloading package stopwords to /root/nltk_data...\n",
            "[nltk_data]   Package stopwords is already up-to-date!\n"
          ]
        }
      ],
      "source": [
        "import re\n",
        "import nltk\n",
        "nltk.download('stopwords')\n",
        "from nltk.corpus import stopwords\n",
        "from nltk.stem.porter import PorterStemmer\n",
        "corpus = []\n",
        "for i in range(0, 40000):\n",
        "    review = re.sub('[^a-zA-Z]', ' ', input_array[i])\n",
        "    review = review.lower()\n",
        "    review = review.split()\n",
        "    ps = PorterStemmer()\n",
        "    review = [ps.stem(word) for word in review if not word in set(stopwords.words('english'))]\n",
        "    review = ' '.join(review)\n",
        "    corpus.append(review)"
      ]
    },
    {
      "cell_type": "markdown",
      "source": [
        "### Bag of Word Model"
      ],
      "metadata": {
        "id": "IRhaiCHZoUm2"
      }
    },
    {
      "cell_type": "markdown",
      "source": [
        "A bag of words is a representation of text that describes the occurrence of words within a document. We just keep track of word counts and disregard the grammatical details and the word order. It is called a “bag” of words because any information about the order or structure of words in the document is discarded."
      ],
      "metadata": {
        "id": "uB8gWREEouIx"
      }
    },
    {
      "cell_type": "code",
      "execution_count": null,
      "metadata": {
        "id": "-MfZRirTjNo6"
      },
      "outputs": [],
      "source": [
        "from sklearn.feature_extraction.text import CountVectorizer\n",
        "cv = CountVectorizer(max_features = 5000)\n",
        "X = cv.fit_transform(corpus).toarray()\n",
        "y = dataset.iloc[0:40000, 2].values"
      ]
    },
    {
      "cell_type": "markdown",
      "source": [
        "### Splitting Dataset into Train and Test sets"
      ],
      "metadata": {
        "id": "8-EtTbEWl_P2"
      }
    },
    {
      "cell_type": "code",
      "execution_count": null,
      "metadata": {
        "id": "ow86g0Q3q8m7"
      },
      "outputs": [],
      "source": [
        "from sklearn.model_selection import train_test_split\n",
        "X_train, X_test, y_train, y_test = train_test_split(X, y, test_size = 0.20)"
      ]
    },
    {
      "cell_type": "markdown",
      "source": [
        "### Support Vector Machines (SVM)"
      ],
      "metadata": {
        "id": "CrZ_tGDjmGLH"
      }
    },
    {
      "cell_type": "code",
      "source": [
        "#2. Support Vector Machine(SVM) \n",
        "svm_model = SVC(kernel='linear')\n",
        "\n",
        "#Fitting training set to the model\n",
        "svm_model.fit(X_train,y_train)\n",
        "\n",
        "#Predicting the test set results based on the model\n",
        "svm_y_pred = svm_model.predict(X_test)\n",
        "\n",
        "#Calculate the accuracy score of this model\n",
        "score = accuracy_score(y_test,svm_y_pred)\n",
        "print('Accuracy of SVM model is ', score)"
      ],
      "metadata": {
        "colab": {
          "base_uri": "https://localhost:8080/"
        },
        "id": "eD8JH_27jvx1",
        "outputId": "58bd56df-7cd2-44b1-b810-4a64ff003e28"
      },
      "execution_count": null,
      "outputs": [
        {
          "output_type": "stream",
          "name": "stdout",
          "text": [
            "Accuracy of SVM model is 0.94249\n"
          ]
        }
      ]
    },
    {
      "cell_type": "markdown",
      "source": [
        "### Saving SVM Model"
      ],
      "metadata": {
        "id": "axPakJf4mYQI"
      }
    },
    {
      "cell_type": "code",
      "execution_count": null,
      "metadata": {
        "id": "ApseUEYmSBDV"
      },
      "outputs": [],
      "source": [
        "pickle.dump(svm_model, open('svm_model.sav','wb'))"
      ]
    },
    {
      "cell_type": "markdown",
      "source": [
        "#### Loading SVM Model"
      ],
      "metadata": {
        "id": "ixRndGU8mMhf"
      }
    },
    {
      "cell_type": "code",
      "execution_count": null,
      "metadata": {
        "id": "NEMtlM6s2Qjo"
      },
      "outputs": [],
      "source": [
        "model = pickle.load(open('svm_model.sav','rb'))"
      ]
    },
    {
      "cell_type": "markdown",
      "source": [
        "##### **Predict()**\n",
        "\n",
        "Python predict() function enables us to predict the labels of the data values on the basis of the trained model.\n",
        "\n",
        "\n",
        "The predict() function accepts only a single argument which is usually the data to be tested.\n",
        "It returns the labels of the data passed as argument based upon the learned or trained data obtained from the model.\n",
        "\n",
        "Thus, the predict() function works on top of the trained model and makes use of the learned label to map and predict the labels for the data to be tested."
      ],
      "metadata": {
        "id": "uWSqhouaD-3v"
      }
    },
    {
      "cell_type": "code",
      "execution_count": null,
      "metadata": {
        "id": "y4nQeQ6IBYFF"
      },
      "outputs": [],
      "source": [
        "svm_y_pred = model.predict(X_test)"
      ]
    },
    {
      "cell_type": "markdown",
      "source": [
        "### Confusion Matrix for SVM Model"
      ],
      "metadata": {
        "id": "YFzot6mkmfQ_"
      }
    },
    {
      "cell_type": "code",
      "execution_count": null,
      "metadata": {
        "id": "VdNsUhIxRccg"
      },
      "outputs": [],
      "source": [
        "from sklearn.metrics import classification_report, confusion_matrix, accuracy_score\n",
        "cm = confusion_matrix(y_test, svm_y_pred)\n",
        "cm_df = pd.DataFrame(cm,\n",
        "                     index = ['true','false'], \n",
        "                     columns = ['true','false'])\n"
      ]
    },
    {
      "cell_type": "code",
      "execution_count": null,
      "metadata": {
        "colab": {
          "base_uri": "https://localhost:8080/",
          "height": 404
        },
        "id": "NGdMYp8tSFIj",
        "outputId": "c5a4bffc-9a49-48ca-e174-1a9853ec01c1"
      },
      "outputs": [
        {
          "output_type": "display_data",
          "data": {
            "text/plain": [
              "<Figure size 432x432 with 2 Axes>"
            ],
            "image/png": "[encoded data removed]"
          },
          "metadata": {
            "needs_background": "light"
          }
        }
      ],
      "source": [
        "import seaborn as sns\n",
        "plt.figure(figsize=(6,6))\n",
        "sns.heatmap(cm_df, annot=True)\n",
        "plt.title('Confusion Matrix')\n",
        "plt.ylabel('Actal Values')\n",
        "plt.xlabel('Predicted Values')\n",
        "plt.show()"
      ]
    },
    {
      "cell_type": "markdown",
      "source": [
        "### Evaluating the performance of SVM Model on Test set"
      ],
      "metadata": {
        "id": "DhoVKttamlT2"
      }
    },
    {
      "cell_type": "code",
      "execution_count": null,
      "metadata": {
        "colab": {
          "base_uri": "https://localhost:8080/"
        },
        "id": "SnyxecfP8K8t",
        "outputId": "d8bcbdbd-48e2-40bf-a34f-0480fb0a8158"
      },
      "outputs": [
        {
          "output_type": "stream",
          "name": "stdout",
          "text": [
            "prediction: Real News\n",
            "Reality: Real News\n"
          ]
        }
      ],
      "source": [
        "if svm_y_pred[700] == 0:\n",
        "  print(\"Prediction: Fake News\")\n",
        "else:\n",
        "  print(\"prediction: Real News\")\n",
        "if y_test[700] == 0:\n",
        "  print(\"Reality: Fake News\")\n",
        "else:\n",
        "  print(\"Reality: Real News\")\n"
      ]
    },
    {
      "cell_type": "code",
      "execution_count": null,
      "metadata": {
        "colab": {
          "base_uri": "https://localhost:8080/"
        },
        "id": "oS6SzK0d9563",
        "outputId": "09300177-aec5-4943-ccff-1d090ca1967f"
      },
      "outputs": [
        {
          "output_type": "stream",
          "name": "stdout",
          "text": [
            "Prediction: Fake News\n",
            "Reality: Fake News\n"
          ]
        }
      ],
      "source": [
        "if svm_y_pred[230] == 0:\n",
        "  print(\"Prediction: Fake News\")\n",
        "else:\n",
        "  print(\"prediction: Real News\")\n",
        "if y_test[230] == 0:\n",
        "  print(\"Reality: Fake News\")\n",
        "else:\n",
        "  print(\"Reality: Real News\")"
      ]
    },
    {
      "cell_type": "code",
      "source": [
        "if svm_y_pred[57] == 0:\n",
        "  print(\"Prediction: Fake News\")\n",
        "else:\n",
        "  print(\"prediction: Real News\")\n",
        "if y_test[57] == 0:\n",
        "  print(\"Reality: Fake News\")\n",
        "else:\n",
        "  print(\"Reality: Real News\")"
      ],
      "metadata": {
        "colab": {
          "base_uri": "https://localhost:8080/"
        },
        "id": "Se-JW2yeG-Ws",
        "outputId": "ad54a325-1aef-48b8-9557-962741b270bb"
      },
      "execution_count": null,
      "outputs": [
        {
          "output_type": "stream",
          "name": "stdout",
          "text": [
            "prediction: Real News\n",
            "Reality: Real News\n"
          ]
        }
      ]
    },
    {
      "cell_type": "markdown",
      "source": [
        "### Random Forest Classifier"
      ],
      "metadata": {
        "id": "7Oco-MTXmtLB"
      }
    },
    {
      "cell_type": "code",
      "execution_count": null,
      "metadata": {
        "colab": {
          "base_uri": "https://localhost:8080/"
        },
        "outputId": "4fb3c8e8-e645-4fce-dd1f-8db5fb5739aa",
        "id": "mdtRpv2ZfAY-"
      },
      "outputs": [
        {
          "output_type": "stream",
          "name": "stdout",
          "text": [
            "Accuracy of Random Forest Classification model is  0.922125\n"
          ]
        }
      ],
      "source": [
        "from sklearn.ensemble import RandomForestClassifier\n",
        "classifier3 = RandomForestClassifier(n_estimators = 10, criterion = 'entropy', random_state = 0)\n",
        "classifier3.fit(X_train, y_train)\n",
        "\n",
        "# Predicting the Test set results\n",
        "y_predR = classifier3.predict(X_test)\n",
        "score = accuracy_score(y_test,y_predR)\n",
        "print('Accuracy of Random Forest Classification model is ', score)\n"
      ]
    },
    {
      "cell_type": "markdown",
      "source": [
        "### Saving The model"
      ],
      "metadata": {
        "id": "V-2ODnT8mzq3"
      }
    },
    {
      "cell_type": "code",
      "execution_count": null,
      "metadata": {
        "id": "X-0le3WbDEhq"
      },
      "outputs": [],
      "source": [
        "pickle.dump(classifier3, open('random_forest.sav','wb'))"
      ]
    },
    {
      "cell_type": "markdown",
      "source": [
        "### Loading the Model"
      ],
      "metadata": {
        "id": "NLenYyg4m3bo"
      }
    },
    {
      "cell_type": "code",
      "execution_count": null,
      "metadata": {
        "id": "CKGplqNVDQi5"
      },
      "outputs": [],
      "source": [
        "rand_forest = pickle.load(open('random_forest.sav','rb'))"
      ]
    },
    {
      "cell_type": "code",
      "execution_count": null,
      "metadata": {
        "id": "Freo2s7LDhoJ"
      },
      "outputs": [],
      "source": [
        "rand_y_pred = rand_forest.predict(X_test)"
      ]
    },
    {
      "cell_type": "markdown",
      "source": [
        "### Confusion Matrix for random forest classifier"
      ],
      "metadata": {
        "id": "Hco-rSwLm60I"
      }
    },
    {
      "cell_type": "code",
      "execution_count": null,
      "metadata": {
        "id": "EKnkGrygTjC-"
      },
      "outputs": [],
      "source": [
        "from sklearn.metrics import classification_report, confusion_matrix, accuracy_score\n",
        "cm = confusion_matrix(y_test, rand_y_pred)\n",
        "cm_df = pd.DataFrame(cm,\n",
        "                     index = ['true','false'], \n",
        "                     columns = ['true','false'])"
      ]
    },
    {
      "cell_type": "code",
      "execution_count": null,
      "metadata": {
        "colab": {
          "base_uri": "https://localhost:8080/",
          "height": 404
        },
        "id": "WMjGOHzWTtam",
        "outputId": "d6994c03-b33e-47bc-ab75-366cc5b8685b"
      },
      "outputs": [
        {
          "output_type": "display_data",
          "data": {
            "text/plain": [
              "<Figure size 432x432 with 2 Axes>"
            ],
            "image/png": "[encoded data removed]"
          },
          "metadata": {
            "needs_background": "light"
          }
        }
      ],
      "source": [
        "import seaborn as sns\n",
        "plt.figure(figsize=(6,6))\n",
        "sns.heatmap(cm_df, annot=True)\n",
        "plt.title('Confusion Matrix')\n",
        "plt.ylabel('Actal Values')\n",
        "plt.xlabel('Predicted Values')\n",
        "plt.show()"
      ]
    },
    {
      "cell_type": "markdown",
      "source": [
        "### Evaluating the performance of random forest classifier on test set"
      ],
      "metadata": {
        "id": "qSxQqt7YnB2z"
      }
    },
    {
      "cell_type": "code",
      "execution_count": null,
      "metadata": {
        "colab": {
          "base_uri": "https://localhost:8080/"
        },
        "id": "Zqs7wxyLDs6T",
        "outputId": "49ab9895-a470-4b43-b69e-9b8fad25aee5"
      },
      "outputs": [
        {
          "output_type": "stream",
          "name": "stdout",
          "text": [
            "prediction: Real News\n",
            "Reality: Real News\n"
          ]
        }
      ],
      "source": [
        "if rand_y_pred[320] == 0:\n",
        "  print(\"Prediction: Fake News\")\n",
        "else:\n",
        "  print(\"prediction: Real News\")\n",
        "if y_test[320] == 0:\n",
        "  print(\"Reality: Fake News\")\n",
        "else:\n",
        "  print(\"Reality: Real News\")\n"
      ]
    },
    {
      "cell_type": "code",
      "execution_count": null,
      "metadata": {
        "colab": {
          "base_uri": "https://localhost:8080/"
        },
        "id": "UTXqZdUdDyYV",
        "outputId": "bfd81876-4c2f-48e5-ac83-771e3d269234"
      },
      "outputs": [
        {
          "output_type": "stream",
          "name": "stdout",
          "text": [
            "Prediction: Fake News\n",
            "Reality: Fake News\n"
          ]
        }
      ],
      "source": [
        "if rand_y_pred[500] == 0:\n",
        "  print(\"Prediction: Fake News\")\n",
        "else:\n",
        "  print(\"prediction: Real News\")\n",
        "if y_test[500] == 0:\n",
        "  print(\"Reality: Fake News\")\n",
        "else:\n",
        "  print(\"Reality: Real News\")\n"
      ]
    },
    {
      "cell_type": "markdown",
      "source": [
        "### Decision Tree Classifier"
      ],
      "metadata": {
        "id": "Je4aOdYYnJQs"
      }
    },
    {
      "cell_type": "code",
      "execution_count": null,
      "metadata": {
        "colab": {
          "base_uri": "https://localhost:8080/"
        },
        "id": "HhNHUWUNOuff",
        "outputId": "0657ac4a-6cb7-461d-c4b2-f56fa17c379f"
      },
      "outputs": [
        {
          "output_type": "stream",
          "name": "stdout",
          "text": [
            "Accuracy of Decision Tree Classification model is  0.90075\n"
          ]
        }
      ],
      "source": [
        "from sklearn.tree import DecisionTreeClassifier\n",
        "classifier2 = DecisionTreeClassifier(criterion = 'entropy', random_state = 0)\n",
        "classifier2.fit(X_train, y_train)\n",
        "\n",
        "# Predicting the Test set results\n",
        "y_predD = classifier2.predict(X_test)\n",
        "score = accuracy_score(y_test,y_predD)\n",
        "print('Accuracy of Decision Tree Classification model is ', score)\n"
      ]
    },
    {
      "cell_type": "markdown",
      "source": [
        "### Saving the model"
      ],
      "metadata": {
        "id": "jmiKnKuknOT2"
      }
    },
    {
      "cell_type": "code",
      "execution_count": null,
      "metadata": {
        "id": "wmvtF-9kFmLc"
      },
      "outputs": [],
      "source": [
        "pickle.dump(classifier2, open('decision_tree.sav','wb'))"
      ]
    },
    {
      "cell_type": "markdown",
      "source": [
        "### Loading the model"
      ],
      "metadata": {
        "id": "DXiJ9tq2nRHS"
      }
    },
    {
      "cell_type": "code",
      "execution_count": null,
      "metadata": {
        "id": "7_YGcGPgFySb"
      },
      "outputs": [],
      "source": [
        "decision_tree = pickle.load(open('decision_tree.sav','rb'))"
      ]
    },
    {
      "cell_type": "code",
      "execution_count": null,
      "metadata": {
        "id": "UIICJaNYIQAb"
      },
      "outputs": [],
      "source": [
        "deci_y_pred = decision_tree.predict(X_test)"
      ]
    },
    {
      "cell_type": "markdown",
      "source": [
        "### Confusion Matrix for Decision Tree Classifier"
      ],
      "metadata": {
        "id": "csVErj7onVV4"
      }
    },
    {
      "cell_type": "code",
      "execution_count": null,
      "metadata": {
        "id": "rX5OKFD7U7S0"
      },
      "outputs": [],
      "source": [
        "from sklearn.metrics import classification_report, confusion_matrix, accuracy_score\n",
        "cm = confusion_matrix(y_test, deci_y_pred)\n",
        "cm_df = pd.DataFrame(cm,\n",
        "                     index = ['true','false'], \n",
        "                     columns = ['true','false'])"
      ]
    },
    {
      "cell_type": "code",
      "execution_count": null,
      "metadata": {
        "colab": {
          "base_uri": "https://localhost:8080/",
          "height": 730
        },
        "id": "aWnW-Wu5VIyx",
        "outputId": "f7f18294-bea2-46ae-dc82-09a0ae45c997"
      },
      "outputs": [
        {
          "output_type": "display_data",
          "data": {
            "text/plain": [
              "<Figure size 864x864 with 2 Axes>"
            ],
            "image/png": "[encoded data removed]"
          },
          "metadata": {
            "needs_background": "light"
          }
        }
      ],
      "source": [
        "import seaborn as sns\n",
        "plt.figure(figsize=(12,12))\n",
        "sns.heatmap(cm_df, annot=True)\n",
        "plt.title('Confusion Matrix')\n",
        "plt.ylabel('Actal Values')\n",
        "plt.xlabel('Predicted Values')\n",
        "plt.show()"
      ]
    },
    {
      "cell_type": "markdown",
      "source": [
        "### Evaluating the performance of Decision Tree Classifier on Test set"
      ],
      "metadata": {
        "id": "OLL2zkCKncwB"
      }
    },
    {
      "cell_type": "code",
      "execution_count": null,
      "metadata": {
        "colab": {
          "base_uri": "https://localhost:8080/"
        },
        "id": "eH6fpSpCIsu6",
        "outputId": "def98205-ffd8-4be6-c734-1688003bde87"
      },
      "outputs": [
        {
          "output_type": "stream",
          "name": "stdout",
          "text": [
            "prediction: Real News\n",
            "Reality: Real News\n"
          ]
        }
      ],
      "source": [
        "if deci_y_pred[517] == 0:\n",
        "  print(\"Prediction: Fake News\")\n",
        "else:\n",
        "  print(\"prediction: Real News\")\n",
        "if y_test[517] == 0:\n",
        "  print(\"Reality: Fake News\")\n",
        "else:\n",
        "  print(\"Reality: Real News\")\n"
      ]
    },
    {
      "cell_type": "code",
      "execution_count": null,
      "metadata": {
        "colab": {
          "base_uri": "https://localhost:8080/"
        },
        "id": "JKlR9bQwIyb4",
        "outputId": "79cf5ae2-72b3-4f14-d325-ce7561a3a1b7"
      },
      "outputs": [
        {
          "output_type": "stream",
          "name": "stdout",
          "text": [
            "Prediction: Fake News\n",
            "Reality: Fake News\n"
          ]
        }
      ],
      "source": [
        "if deci_y_pred[189] == 0:\n",
        "  print(\"Prediction: Fake News\")\n",
        "else:\n",
        "  print(\"prediction: Real News\")\n",
        "if y_test[189] == 0:\n",
        "  print(\"Reality: Fake News\")\n",
        "else:\n",
        "  print(\"Reality: Real News\")\n"
      ]
    },
    {
      "cell_type": "markdown",
      "source": [
        "### XGBoost"
      ],
      "metadata": {
        "id": "SWniVWEWnnAn"
      }
    },
    {
      "cell_type": "code",
      "execution_count": null,
      "metadata": {
        "colab": {
          "base_uri": "https://localhost:8080/"
        },
        "id": "xzlQAE_dQQyG",
        "outputId": "9e608fc7-1fb7-432b-ac18-b91603196f38"
      },
      "outputs": [
        {
          "output_type": "stream",
          "name": "stdout",
          "text": [
            "Requirement already satisfied: xgboost in /usr/local/lib/python3.7/dist-packages (0.90)\n",
            "Requirement already satisfied: numpy in /usr/local/lib/python3.7/dist-packages (from xgboost) (1.21.6)\n",
            "Requirement already satisfied: scipy in /usr/local/lib/python3.7/dist-packages (from xgboost) (1.4.1)\n"
          ]
        }
      ],
      "source": [
        "pip install xgboost"
      ]
    },
    {
      "cell_type": "code",
      "execution_count": null,
      "metadata": {
        "colab": {
          "base_uri": "https://localhost:8080/"
        },
        "id": "9WcnWseaPfQK",
        "outputId": "49142cdc-a156-4774-a97a-788ddc6a80e7"
      },
      "outputs": [
        {
          "output_type": "stream",
          "name": "stdout",
          "text": [
            "Accuracy of XGBoost model is  0.84075\n"
          ]
        }
      ],
      "source": [
        "import xgboost as xgb\n",
        "xgb_cl = xgb.XGBClassifier()\n",
        "\n",
        "xgb_cl.fit(X_train, y_train)\n",
        "\n",
        "preds = xgb_cl.predict(X_test)\n",
        "\n",
        "score = accuracy_score(y_test, preds)\n",
        "print('Accuracy of XGBoost model is ', score)"
      ]
    },
    {
      "cell_type": "markdown",
      "source": [
        "### Saving the model"
      ],
      "metadata": {
        "id": "EoJFh5mznrYz"
      }
    },
    {
      "cell_type": "code",
      "execution_count": null,
      "metadata": {
        "id": "ef3NzMVAVRpz"
      },
      "outputs": [],
      "source": [
        "pickle.dump(xgb_cl, open('xgboost.sav','wb'))"
      ]
    },
    {
      "cell_type": "markdown",
      "source": [
        "### Loading the model"
      ],
      "metadata": {
        "id": "KMD7TIY4nvCN"
      }
    },
    {
      "cell_type": "code",
      "execution_count": null,
      "metadata": {
        "id": "2hSJTSO2VgGr"
      },
      "outputs": [],
      "source": [
        "xgboost = pickle.load(open('xgboost.sav','rb'))"
      ]
    },
    {
      "cell_type": "code",
      "execution_count": null,
      "metadata": {
        "id": "vyOhyJtdVxck"
      },
      "outputs": [],
      "source": [
        "xgboost_y_pred = xgboost.predict(X_test)"
      ]
    },
    {
      "cell_type": "markdown",
      "source": [
        "### Confusion Matrix for XGBoost"
      ],
      "metadata": {
        "id": "OeWN7fHLnyL5"
      }
    },
    {
      "cell_type": "code",
      "execution_count": null,
      "metadata": {
        "id": "n2N6yObGV7fh"
      },
      "outputs": [],
      "source": [
        "from sklearn.metrics import classification_report, confusion_matrix, accuracy_score\n",
        "cm = confusion_matrix(y_test, xgboost_y_pred)\n",
        "cm_df = pd.DataFrame(cm,\n",
        "                     index = ['true','false'], \n",
        "                     columns = ['true','false'])"
      ]
    },
    {
      "cell_type": "code",
      "execution_count": null,
      "metadata": {
        "colab": {
          "base_uri": "https://localhost:8080/",
          "height": 730
        },
        "id": "jb4oTF1LWBs7",
        "outputId": "11a5d7a7-852b-400c-d5e9-2093bdcfe640"
      },
      "outputs": [
        {
          "output_type": "display_data",
          "data": {
            "text/plain": [
              "<Figure size 864x864 with 2 Axes>"
            ],
            "image/png": "[encoded data removed]"
          },
          "metadata": {
            "needs_background": "light"
          }
        }
      ],
      "source": [
        "import seaborn as sns\n",
        "plt.figure(figsize=(12,12))\n",
        "sns.heatmap(cm_df, annot=True)\n",
        "plt.title('Confusion Matrix')\n",
        "plt.ylabel('Actal Values')\n",
        "plt.xlabel('Predicted Values')\n",
        "plt.show()"
      ]
    },
    {
      "cell_type": "markdown",
      "source": [
        "### Evaluating the performance of XGBoost on test set"
      ],
      "metadata": {
        "id": "lgyB37JRn_Ec"
      }
    },
    {
      "cell_type": "code",
      "execution_count": null,
      "metadata": {
        "colab": {
          "base_uri": "https://localhost:8080/"
        },
        "id": "iF9EoKamWIXz",
        "outputId": "80409fa5-31b4-49d9-bcf1-40308ccbcfe8"
      },
      "outputs": [
        {
          "output_type": "stream",
          "name": "stdout",
          "text": [
            "prediction: Real News\n",
            "Reality: Real News\n"
          ]
        }
      ],
      "source": [
        "if xgboost_y_pred[457] == 0:\n",
        "  print(\"Prediction: Fake News\")\n",
        "else:\n",
        "  print(\"prediction: Real News\")\n",
        "if y_test[457] == 0:\n",
        "  print(\"Reality: Fake News\")\n",
        "else:\n",
        "  print(\"Reality: Real News\")"
      ]
    },
    {
      "cell_type": "code",
      "execution_count": null,
      "metadata": {
        "colab": {
          "base_uri": "https://localhost:8080/"
        },
        "id": "erBdBegUWOha",
        "outputId": "21b23610-b275-4f1b-97a6-d9ee75a26b99"
      },
      "outputs": [
        {
          "output_type": "stream",
          "name": "stdout",
          "text": [
            "prediction: Real News\n",
            "Reality: Real News\n"
          ]
        }
      ],
      "source": [
        "if xgboost_y_pred[266] == 0:\n",
        "  print(\"Prediction: Fake News\")\n",
        "else:\n",
        "  print(\"prediction: Real News\")\n",
        "if y_test[266] == 0:\n",
        "  print(\"Reality: Fake News\")\n",
        "else:\n",
        "  print(\"Reality: Real News\")\n"
      ]
    },
    {
      "cell_type": "markdown",
      "source": [
        "### Testing the performance of the model on external data"
      ],
      "metadata": {
        "id": "CplOnKt_oFNM"
      }
    },
    {
      "cell_type": "code",
      "execution_count": null,
      "metadata": {
        "id": "uYVX4-elMfQP"
      },
      "outputs": [],
      "source": [
        "news = 'JetNation FanDuel League; Week 4 of readers think this story is Fact. Add your two cents.(Before Its News)Our FanDuel league is back again this week. Here are the details:$900 in total prize money. $250 to the winner. $10 to enter.Remember this is a one week league, pick your lineup against the salary cap and next week if you want to play again you can pick a completely different lineup if you want.Click this link to enter — http://fanduel.com/JetNation You can discuss this with other NY Jets fans on the Jet Nation message board. Or visit of on Facebook.Source: http://www.jetnation.com/2017/09/27/jetnation-fanduel-league-week-4/'\n",
        "input_data = {\"title\":[news]}\n",
        "new_def_test = pd.DataFrame(input_data)\n",
        "corpus = []\n",
        "review = re.sub('[^a-zA-Z]',' ',news)\n",
        "review = review.lower()\n",
        "review = review.split()\n",
        "ps = PorterStemmer()\n",
        "review = [ps.stem(word) for word in review if not word in set(stopwords.words('english'))]\n",
        "review = ' '.join(review)\n",
        "corpus.append(review)\n",
        "cv = CountVectorizer(max_features = 5000)\n",
        "X = cv.fit_transform(corpus).toarray()"
      ]
    },
    {
      "cell_type": "code",
      "source": [
        "from sklearn import *\n",
        "X.resize((1,5000),refcheck=False)\n",
        "prediction = model.predict(X)\n",
        "if prediction == 0:\n",
        "  print(\"Fake news\")\n",
        "else:\n",
        "  print(\"Real news\")"
      ],
      "metadata": {
        "colab": {
          "base_uri": "https://localhost:8080/"
        },
        "id": "-CJzhkYXWRFy",
        "outputId": "05ed8f38-737c-4a23-affd-9bb3066c143c"
      },
      "execution_count": null,
      "outputs": [
        {
          "output_type": "stream",
          "name": "stdout",
          "text": [
            "Fake news\n"
          ]
        }
      ]
    }
  ],
  "metadata": {
    "colab": {
      "name": "Mini_Project_Fake_News_Detection.ipynb",
      "provenance": [],
      "collapsed_sections": [],
      "authorship_tag": "ABX9TyP9Jpet9DHhXAgg0jam60ME",
      "include_colab_link": true
    },
    "kernelspec": {
      "display_name": "Python 3",
      "name": "python3"
    },
    "language_info": {
      "name": "python"
    }
  },
  "nbformat": 4,
  "nbformat_minor": 0
}